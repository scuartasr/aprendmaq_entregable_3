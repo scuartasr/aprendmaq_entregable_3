{
 "cells": [
  {
   "cell_type": "markdown",
   "id": "b7f8bc2d",
   "metadata": {},
   "source": [
    "# <span style = 'color: red'>**Práctica tres.** Aprendizaje de máquina. *Clusterización*</span>\n",
    "\n",
    "# ***Parte dos.*** **Comparación de métodos de clusterización.**\n",
    "\n",
    "## **Simón Cuartas Rendón**\n",
    "\n",
    "En este *notebook* de Python se aborda el desarrollo de la **segunda parte** de la *práctica tres* del curso de **Aprendizaje de Máquina**, relacionada con la clusterización vía *KMeans*, clusterización aglomerativa, DBSCAN y clusterización espectral. Para cada una de estas alternativas se va a jugar con algunos de sus parámetros de cara a ver cuál consigue optimizar el índice de silueta.\n",
    "\n",
    "A continuación, se abren los paquetes que se usarán para dar solución al problema propuesto.\n",
    "\n",
    "**Anotación**. Este *notebook* está disponible en línea para facilitar su revisión. Se puede acceder al repositorio de *GitHub* aquí, y en particular, a [este](https://github.com/scuartasr/aprendmaq_entregable_3) cuaderno aquí XXXX."
   ]
  }
 ],
 "metadata": {
  "kernelspec": {
   "display_name": ".venv",
   "language": "python",
   "name": "python3"
  },
  "language_info": {
   "name": "python",
   "version": "3.10.16"
  }
 },
 "nbformat": 4,
 "nbformat_minor": 5
}
